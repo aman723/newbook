{
 "cells": [
  {
   "cell_type": "code",
   "execution_count": 1,
   "id": "f3890755-6d61-4ded-8336-ab430670baf2",
   "metadata": {},
   "outputs": [
    {
     "data": {
      "text/plain": [
       "['.git',\n",
       " 'Analysis:-Julia.md',\n",
       " 'Modules:-Asynchronous.md',\n",
       " 'Building-your-own-actor-system.md',\n",
       " 'Modules:-Configuration-and-Architecture.md',\n",
       " 'Data-Store:-Offline.md',\n",
       " 'Installation-for-Windows.md',\n",
       " 'interfaces.md',\n",
       " 'Setting-up-conda-and-CaImAn-environments.asciidoc',\n",
       " 'design.md',\n",
       " 'classes.md',\n",
       " 'home.md',\n",
       " 'Process-Raw-Frames.md',\n",
       " 'Docker.md',\n",
       " 'store.md',\n",
       " 'Building-and-Packaging.md',\n",
       " 'Data-Acquistion.md',\n",
       " 'Pytest-Testing.md',\n",
       " 'Installation.md',\n",
       " 'Stimulation.md',\n",
       " 'Data-Store:-Online.md',\n",
       " 'Minimal-working-example.md']"
      ]
     },
     "execution_count": 1,
     "metadata": {},
     "output_type": "execute_result"
    }
   ],
   "source": [
    "import os\n",
    "\n",
    "os.listdir('/home/aman/improv.wiki')"
   ]
  },
  {
   "cell_type": "code",
   "execution_count": null,
   "id": "7f544115-b660-47e5-8add-6ebd77dec8c7",
   "metadata": {},
   "outputs": [],
   "source": []
  }
 ],
 "metadata": {
  "kernelspec": {
   "display_name": "Python 3 (ipykernel)",
   "language": "python",
   "name": "python3"
  },
  "language_info": {
   "codemirror_mode": {
    "name": "ipython",
    "version": 3
   },
   "file_extension": ".py",
   "mimetype": "text/x-python",
   "name": "python",
   "nbconvert_exporter": "python",
   "pygments_lexer": "ipython3",
   "version": "3.9.12"
  }
 },
 "nbformat": 4,
 "nbformat_minor": 5
}
